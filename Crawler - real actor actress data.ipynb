{
 "cells": [
  {
   "cell_type": "markdown",
   "metadata": {},
   "source": [
    "## Just a crawler to get a real data from actor and actress from a website"
   ]
  },
  {
   "cell_type": "code",
   "execution_count": 1,
   "metadata": {
    "collapsed": false
   },
   "outputs": [],
   "source": [
    "import re\n",
    "from urllib.request import urlopen"
   ]
  },
  {
   "cell_type": "code",
   "execution_count": 2,
   "metadata": {
    "collapsed": true
   },
   "outputs": [],
   "source": [
    "def get_html_from_url(url):\n",
    "    url_handle = urlopen(url)\n",
    "    return str(url_handle.read())"
   ]
  },
  {
   "cell_type": "code",
   "execution_count": 3,
   "metadata": {
    "collapsed": false
   },
   "outputs": [
    {
     "name": "stdout",
     "output_type": "stream",
     "text": [
      "Crawling actors\n",
      "Crawling actresses\n",
      "Total possible actors: 22\n",
      "Total possible actresses: 29\n"
     ]
    }
   ],
   "source": [
    "#Crawl all possible actor and actresses\n",
    "def get_url_to_crawl(url_pattern, url_search_pattern):\n",
    "    urls = list()\n",
    "    for pg in range(2,4):\n",
    "        html = get_html_from_url(url_pattern % pg)\n",
    "        urls.extend(re.findall(url_search_pattern, html))\n",
    "    return urls\n",
    "print(\"Crawling actors\")\n",
    "actor_urls = get_url_to_crawl(\"http://celebrityinside.com/category/body-measurements/actor/page/%d\",\n",
    "                              r\"\"\"<a href=\"(?P<url>http://celebrityinside.com/body-measurements/actor/[^/]+/?)\"[^>]+>\"\"\")\n",
    "print(\"Crawling actresses\")\n",
    "actress_urls = get_url_to_crawl(\"http://celebrityinside.com/category/body-measurements/actress/page/%d\",\n",
    "                                r\"\"\"<a href=\"(?P<url>http://celebrityinside.com/body-measurements/actress/[^/]+/?)\"[^>]+>\"\"\")\n",
    "print(\"Total possible actors:\", len(actor_urls))\n",
    "print(\"Total possible actresses:\", len(actress_urls))"
   ]
  },
  {
   "cell_type": "code",
   "execution_count": 4,
   "metadata": {
    "collapsed": false
   },
   "outputs": [],
   "source": [
    "def get_measurement_from_urls(urls):\n",
    "    X = list()\n",
    "    X_source = list()\n",
    "    for i, url in enumerate(urls):\n",
    "        print(\"\\rCrawling #%d/%d.\"%(i+1, len(urls)), end=\"\")\n",
    "        try:\n",
    "            s = get_html_from_url(url)\n",
    "            height = re.findall(r\"<li><strong>[^H^<^>]*Height[^<]*</strong>(?:\\D*(\\d+) cm)|(?:[^\\(]*\\((\\d+) cm\\))[^<]*</li>\", s)[0]\n",
    "            height = height[0] if height[0] else height[1]\n",
    "            weight = re.findall(r\"<li><strong>[^H^<^>]*Weight[^<]*</strong>\\D*(\\d+) kg[^<]*</li>\", s)[0]\n",
    "            shoe   = re.findall(r'<li><strong>[^H^<^>]*Shoe[^<]*</strong>\\D*(\\d+)[^<]*</li>', s)[0]\n",
    "            X.append([int(height), int(weight), int(shoe)])\n",
    "            X_source.append(url)\n",
    "        except:\n",
    "            # Sorry, I'm not good with regex, just deal with it\n",
    "            # print(\"\\nFailed to crawl\", url)\n",
    "            pass\n",
    "    return X, X_source"
   ]
  },
  {
   "cell_type": "code",
   "execution_count": 5,
   "metadata": {
    "collapsed": false
   },
   "outputs": [
    {
     "name": "stdout",
     "output_type": "stream",
     "text": [
      "Crawling #22/22. Total male: 16\n",
      "Crawling #29/29. Total female: 24\n"
     ]
    }
   ],
   "source": [
    "X_male, X_male_source = get_measurement_from_urls(actor_urls)\n",
    "print(\" Total male: %d\" % len(X_male))\n",
    "X_female, X_female_source = get_measurement_from_urls(actress_urls)\n",
    "print(\" Total female: %d\" % len(X_female))"
   ]
  },
  {
   "cell_type": "code",
   "execution_count": 7,
   "metadata": {
    "collapsed": false
   },
   "outputs": [
    {
     "data": {
      "text/plain": [
       "[[190, 86, 10],\n",
       " [183, 78, 11],\n",
       " [178, 70, 10],\n",
       " [180, 68, 9],\n",
       " [178, 76, 10],\n",
       " [178, 83, 10],\n",
       " [175, 68, 10],\n",
       " [188, 84, 5],\n",
       " [173, 77, 9],\n",
       " [173, 70, 10],\n",
       " [180, 76, 38],\n",
       " [183, 83, 12],\n",
       " [178, 72, 10],\n",
       " [178, 80, 46],\n",
       " [175, 65, 10],\n",
       " [183, 73, 40]]"
      ]
     },
     "execution_count": 7,
     "metadata": {},
     "output_type": "execute_result"
    }
   ],
   "source": [
    "X_male"
   ]
  },
  {
   "cell_type": "code",
   "execution_count": 10,
   "metadata": {
    "collapsed": false
   },
   "outputs": [
    {
     "data": {
      "text/plain": [
       "['http://celebrityinside.com/body-measurements/actor/idris-elba-height-weight-biceps-size-vital-statistics/',\n",
       " 'http://celebrityinside.com/body-measurements/actor/benedict-cumberbatch-height-weight-shoe-size-vital-statistics/',\n",
       " 'http://celebrityinside.com/body-measurements/actor/derek-hough-height-weight-shoe-size-age-vital-stats/',\n",
       " 'http://celebrityinside.com/body-measurements/actor/cameron-monaghan-height-weight-age-shoe-size-vital-stats/',\n",
       " 'http://celebrityinside.com/body-measurements/actor/cuba-gooding-jr-height-weight-shoe-size-vital-stats/',\n",
       " 'http://celebrityinside.com/body-measurements/actor/charlie-sheen-height-weight-shoe-size-age-vital-stats/',\n",
       " 'http://celebrityinside.com/body-measurements/actor/logan-lerman-height-weight-shoe-size-vital-stats/',\n",
       " 'http://celebrityinside.com/body-measurements/actor/ryan-reynolds-height-weight-shoe-size-hair-color-vital-stats/',\n",
       " 'http://celebrityinside.com/body-measurements/actor/kit-harington-height-weight-shoe-size-vital-stats-bio/',\n",
       " 'http://celebrityinside.com/body-measurements/actor/aaron-paul-height-weight-ethnicity-shoe-size-vital-stats/',\n",
       " 'http://celebrityinside.com/body-measurements/actor/eddie-redmayne-height-weight-age-shoe-size-vital-statistics/',\n",
       " 'http://celebrityinside.com/body-measurements/actor/chad-michael-murray-height-weight-shoe-size-vital-stats-facts/',\n",
       " 'http://celebrityinside.com/body-measurements/actor/rupert-grint-height-weight-shoe-size-vital-statistics/',\n",
       " 'http://celebrityinside.com/body-measurements/actor/scott-adkins-height-weight-biceps-shoe-size-vital-stats-facts/',\n",
       " 'http://celebrityinside.com/body-measurements/actor/tom-felton-height-weight-shoe-size-vital-stats-facts/',\n",
       " 'http://celebrityinside.com/body-measurements/actor/hayden-christensen-body-measurements-height-weight-shoe-size-vital-stats/']"
      ]
     },
     "execution_count": 10,
     "metadata": {},
     "output_type": "execute_result"
    }
   ],
   "source": [
    "X_male_source"
   ]
  },
  {
   "cell_type": "code",
   "execution_count": 8,
   "metadata": {
    "collapsed": false
   },
   "outputs": [
    {
     "data": {
      "text/plain": [
       "[[165, 54, 7],\n",
       " [165, 56, 8],\n",
       " [160, 60, 7],\n",
       " [180, 58, 9],\n",
       " [163, 48, 6],\n",
       " [170, 52, 8],\n",
       " [160, 58, 8],\n",
       " [163, 52, 7],\n",
       " [168, 54, 9],\n",
       " [168, 54, 8],\n",
       " [170, 59, 9],\n",
       " [155, 51, 6],\n",
       " [155, 54, 8],\n",
       " [158, 52, 7],\n",
       " [160, 52, 8],\n",
       " [157, 49, 7],\n",
       " [178, 64, 10],\n",
       " [160, 54, 7],\n",
       " [173, 55, 8],\n",
       " [152, 49, 7],\n",
       " [173, 57, 8],\n",
       " [168, 53, 32],\n",
       " [168, 57, 7],\n",
       " [160, 60, 8]]"
      ]
     },
     "execution_count": 8,
     "metadata": {},
     "output_type": "execute_result"
    }
   ],
   "source": [
    "X_female"
   ]
  },
  {
   "cell_type": "code",
   "execution_count": 11,
   "metadata": {
    "collapsed": false
   },
   "outputs": [
    {
     "data": {
      "text/plain": [
       "['http://celebrityinside.com/body-measurements/actress/j-k-rowling-height-weight-bra-size-stats-facts/',\n",
       " 'http://celebrityinside.com/body-measurements/actress/eliza-dushku-height-weight-bra-size-age-stats-facts/',\n",
       " 'http://celebrityinside.com/body-measurements/actress/natasha-lyonne-height-weight-bra-size-ethnicity-stats-facts/',\n",
       " 'http://celebrityinside.com/body-measurements/actress/karen-gillan-height-weight-bra-size-stats-facts/',\n",
       " 'http://celebrityinside.com/body-measurements/actress/mena-suvari-height-weight-bra-size-vital-stats-facts/',\n",
       " 'http://celebrityinside.com/body-measurements/actress/yael-grobglas-height-weight-bra-size-shoe-facts/',\n",
       " 'http://celebrityinside.com/body-measurements/actress/gina-rodriguez-height-weight-bra-size-ethnicity-vital-stats/',\n",
       " 'http://celebrityinside.com/body-measurements/actress/teyana-taylor-bra-size-height-weight-age-vital-stats/',\n",
       " 'http://celebrityinside.com/body-measurements/actress/fearne-cotton-height-weight-bra-size-vital-stats-facts/',\n",
       " 'http://celebrityinside.com/body-measurements/actress/jamie-chung-height-weight-bra-size-vital-stats-facts/',\n",
       " 'http://celebrityinside.com/body-measurements/actress/candice-accola-body-measurements-bra-size-height-weight-age-vital-statistics/',\n",
       " 'http://celebrityinside.com/body-measurements/actress/cierra-ramirez-height-weight-bra-size-vital-stats-bio/',\n",
       " 'http://celebrityinside.com/body-measurements/actress/bindi-irwin-bra-size-height-weight-vital-stats-bio/',\n",
       " 'http://celebrityinside.com/body-measurements/actress/evanna-lynch-height-weight-bra-size-vital-stats-facts/',\n",
       " 'http://celebrityinside.com/body-measurements/actress/frankie-bridge-height-weight-bra-size-age-vital-stats/',\n",
       " 'http://celebrityinside.com/body-measurements/actress/heidi-montag-bra-size-height-weight-shoe-dress-vital-statistics/',\n",
       " 'http://celebrityinside.com/body-measurements/actress/laura-prepon-height-weight-bra-size-age-vital-stats-bio/',\n",
       " 'http://celebrityinside.com/body-measurements/actress/emily-osment-height-weight-bra-size-vital-stats-facts/',\n",
       " 'http://celebrityinside.com/body-measurements/actress/aly-michalka-height-weight-bra-size-vital-stats-facts/',\n",
       " 'http://celebrityinside.com/body-measurements/actress/annasophia-robb-height-weight-bra-size-shoe-vital-stats-facts/',\n",
       " 'http://celebrityinside.com/body-measurements/actress/holly-valance-bra-size-weight-height-shoe-vital-stats/',\n",
       " 'http://celebrityinside.com/body-measurements/actress/rose-byrne-bra-size-height-weight-shoe-vital-statistics/',\n",
       " 'http://celebrityinside.com/body-measurements/actress/margot-robbie-bra-size-height-weight-vital-statistics/',\n",
       " 'http://celebrityinside.com/body-measurements/actress/samantha-morton-height-weight-bra-size-stats-facts/']"
      ]
     },
     "execution_count": 11,
     "metadata": {},
     "output_type": "execute_result"
    }
   ],
   "source": [
    "X_female_source"
   ]
  }
 ],
 "metadata": {
  "kernelspec": {
   "display_name": "Python [Root]",
   "language": "python",
   "name": "Python [Root]"
  },
  "language_info": {
   "codemirror_mode": {
    "name": "ipython",
    "version": 3
   },
   "file_extension": ".py",
   "mimetype": "text/x-python",
   "name": "python",
   "nbconvert_exporter": "python",
   "pygments_lexer": "ipython3",
   "version": "3.5.2"
  }
 },
 "nbformat": 4,
 "nbformat_minor": 0
}
